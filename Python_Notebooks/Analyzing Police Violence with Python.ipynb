{
 "cells": [
  {
   "cell_type": "markdown",
   "id": "4f976bc4",
   "metadata": {},
   "source": [
    "# Mapping Police Violence\n",
    "\n",
    "## Reading Point data"
   ]
  },
  {
   "cell_type": "code",
   "execution_count": null,
   "id": "9fde242d",
   "metadata": {},
   "outputs": [],
   "source": [
    "%matplotlib widget\n",
    "# %matplotlib notebook\n",
    "\n",
    "\n",
    "import numpy as np\n",
    "import pandas as pd\n",
    "import matplotlib.pyplot as plt\n",
    "import geopandas as gpd\n",
    "\n",
    "PID_Table = pd.read_csv('https://raw.githubusercontent.com/Police-Involved-Deaths-CA/Data/main/Spatial_Data/Geocoded_Points_not_Complete/PID_locations.csv')\n",
    "PID_Table"
   ]
  },
  {
   "cell_type": "markdown",
   "id": "b03a0bf6",
   "metadata": {},
   "source": [
    "# Parse the Data & convert to a Geodataframe"
   ]
  },
  {
   "cell_type": "code",
   "execution_count": null,
   "id": "28b7c586",
   "metadata": {},
   "outputs": [],
   "source": [
    "PID_BC = PID_Table.loc[PID_Table['prov']=='BC']\n",
    "PID_BC = gpd.GeoDataFrame(\n",
    "                    PID_BC,\n",
    "                    geometry=gpd.points_from_xy(PID_BC.longitude, PID_BC.latitude),\n",
    "                    crs='WGS1984'\n",
    "                        )\n",
    "\n",
    "PID_BC.plot()\n",
    "PID_BC"
   ]
  },
  {
   "cell_type": "markdown",
   "id": "dafc5504",
   "metadata": {},
   "source": [
    "## Read the Census Data, Re-project the points\n",
    "\n",
    "To GeoJSON data, we just need to specify the driver."
   ]
  },
  {
   "cell_type": "code",
   "execution_count": null,
   "id": "76ba046a",
   "metadata": {},
   "outputs": [],
   "source": [
    "BC_FSA = gpd.read_file(\"data/Outputs/BC_FSA_Clip.json\", driver = \"GeoJSON\")\n",
    "\n",
    "BC_FSA.crs\n",
    "\n",
    "PID_BC = PID_BC.to_crs(BC_FSA.crs)\n",
    "\n",
    "fig,ax=plt.subplots(figsize=(6,6))\n",
    "BC_FSA.plot(ax=ax)\n",
    "PID_BC.plot(ax=ax,color='r',edgecolor='k')\n",
    "\n",
    "\n",
    "ax.set_ylim(PID_BC.geometry.y.min()-5e4,PID_BC.geometry.y.max()+5e4)\n",
    "ax.set_xlim(PID_BC.geometry.x.min()-5e4,PID_BC.geometry.x.max()+5e4)\n",
    "ax.set_title('Police Involved Deaths 2016 - Present')"
   ]
  },
  {
   "cell_type": "markdown",
   "id": "eb92293c",
   "metadata": {},
   "source": [
    "# Vector Overlay\n",
    "\n",
    "\n",
    "Lets import a points layer for some locations in BC and walk through a handful of vector overlay methods.\n",
    "\n",
    "\n",
    "## Spatial Joins\n",
    "\n",
    "We can use a [spatial join](https://geopandas.org/gallery/spatial_joins.html) to merge attributes between two layers based on location"
   ]
  },
  {
   "cell_type": "code",
   "execution_count": null,
   "id": "0e16fc8a",
   "metadata": {},
   "outputs": [],
   "source": [
    "fig,ax=plt.subplots(figsize=(6,6))\n",
    "\n",
    "# Changin how to \"right\" will significantly increase the runtime\n",
    "# and duplicate each province multiple times (once for each incident within it)\n",
    "Test_Join = gpd.sjoin(PID_BC, BC_FSA, how=\"left\") \n",
    "\n",
    "\n",
    "BC_FSA.plot(ax=ax)\n",
    "## See if there are any locations \"outside\" the provincial boundaries\n",
    "Test_Join.loc[Test_Join['name_right'].isnull()==False].plot(ax=ax,color='k',label='Joined')\n",
    "Test_Join.loc[Test_Join['name_right'].isnull()].plot(ax=ax,color='r',label='Not Joined')\n",
    "\n",
    "ax.legend()\n",
    "\n",
    "Out = Test_Join.loc[Test_Join['name_right'].isnull()]\n",
    "\n",
    "ax.set_ylim(PID_BC.geometry.y.min()-5e4,PID_BC.geometry.y.max()+5e4)\n",
    "ax.set_xlim(PID_BC.geometry.x.min()-5e4,PID_BC.geometry.x.max()+5e4)\n",
    "ax.set_title('Police Involved Deaths 2016 - Present')\n",
    "\n",
    "print('Not Joined: ',Test_Join.loc[Test_Join['name_right'].isnull()].count()['INDEX'])\n",
    "\n",
    "# Test_Join.head()\n",
    "Test_Join.loc[Test_Join['name_right'].isnull(),]"
   ]
  },
  {
   "cell_type": "markdown",
   "id": "e348f148",
   "metadata": {},
   "source": [
    "# Try again\n",
    "\n",
    "* Lets import the \"unclipped\" FSA file, so we can include the two points that are in the \"ocean\""
   ]
  },
  {
   "cell_type": "code",
   "execution_count": null,
   "id": "220113c4",
   "metadata": {},
   "outputs": [],
   "source": [
    "BC_FSA_Albers = gpd.read_file('data/Outputs/BC_FSA_Albers.shp')\n",
    "\n",
    "fig,ax=plt.subplots(figsize=(6,6))\n",
    "\n",
    "# Changin how to \"right\" will significantly increase the runtime\n",
    "# and duplicate each province multiple times (once for each incident within it)\n",
    "Test_Join = gpd.sjoin(PID_BC, BC_FSA_Albers, how=\"left\") \n",
    "\n",
    "BC_FSA_Albers.plot(ax=ax)\n",
    "## See if there are any locations \"outside\" the provincial boundaries\n",
    "Test_Join.loc[Test_Join['name_right'].isnull()==False].plot(ax=ax,color='k',label='Joined')\n",
    "Test_Join.loc[Test_Join['name_right'].isnull()].plot(ax=ax,color='r',label='Not Joined')\n",
    "\n",
    "ax.legend()\n",
    "\n",
    "Out = Test_Join.loc[Test_Join['name_right'].isnull()]\n",
    "\n",
    "ax.set_ylim(PID_BC.geometry.y.min()-5e4,PID_BC.geometry.y.max()+5e4)\n",
    "ax.set_xlim(PID_BC.geometry.x.min()-5e4,PID_BC.geometry.x.max()+5e4)\n",
    "ax.set_title('Police Involved Deaths 2016 - Present')\n",
    "\n",
    "print('Not Joined: ',Test_Join.loc[Test_Join['name_right'].isnull()].count()['INDEX'])\n",
    "\n",
    "# Test_Join.head()\n",
    "Test_Join.loc[Test_Join['name_right'].isnull()==False]"
   ]
  },
  {
   "cell_type": "markdown",
   "id": "5a6041bb",
   "metadata": {},
   "source": [
    "## Point In Polygon Analysis\n",
    "\n",
    "The spatial join method is useful in some cases, but for others, it produces a lot of redundancy.  If your goal is to calculate the number of points per polygon, we can do a point in polygon analysis using the [.within()](https://geopandas.org/docs/reference/api/geopandas.GeoSeries.within.html#geopandas.GeoSeries.within) method. \n",
    "\n",
    "* We're going to \"cheat\" a bit here.  We can use the \"unclipped layer\" because it's less complicated (fewer vertices).\n",
    "* It has the same index as the clipped layer, so we can add the points total to the layer we want to display."
   ]
  },
  {
   "cell_type": "code",
   "execution_count": null,
   "id": "16f0a343",
   "metadata": {},
   "outputs": [],
   "source": [
    "BC_FSA['Deaths'] = 0.0\n",
    "for i,row in BC_FSA_Albers.iterrows():\n",
    "#     print(i)\n",
    "    pip = PID_BC.within(row['geometry'])\n",
    "#     print(pip)\n",
    "    if pip.sum()>0:\n",
    "        BC_FSA.loc[BC_FSA.index==i,'Deaths']+=pip.sum()\n",
    "print(BC_FSA['Deaths'].describe())"
   ]
  },
  {
   "cell_type": "markdown",
   "id": "3f716f48",
   "metadata": {},
   "source": [
    "# Masking\n",
    "\n",
    "* Make a column to differentiate between the FSA with zero incidents"
   ]
  },
  {
   "cell_type": "code",
   "execution_count": null,
   "id": "7de637ee",
   "metadata": {},
   "outputs": [],
   "source": [
    "BC_FSA['Mask']=0\n",
    "BC_FSA.loc[BC_FSA['Deaths']<1,'Mask']=1\n",
    "\n",
    "print(BC_FSA.groupby('Mask').count()['spatial_id'])"
   ]
  },
  {
   "cell_type": "code",
   "execution_count": null,
   "id": "da561b26",
   "metadata": {},
   "outputs": [],
   "source": [
    "fig,ax=plt.subplots(figsize=(6,6))\n",
    "BC_FSA.loc[BC_FSA['Mask']==0].plot(column='Deaths',ax=ax,legend=True,scheme=\"User_Defined\", \n",
    "         classification_kwds=dict(bins=[3,6,\n",
    "             BC_FSA['Deaths'].max()]),\n",
    "                    edgecolor='k')\n",
    "BC_FSA.loc[BC_FSA['Mask']==1].plot(ax=ax,color='grey',edgecolor='k')\n",
    "\n",
    "ax.set_ylim(PID_BC.geometry.y.min()-5e4,PID_BC.geometry.y.max()+5e4)\n",
    "ax.set_xlim(PID_BC.geometry.x.min()-5e4,PID_BC.geometry.x.max()+5e4)"
   ]
  },
  {
   "cell_type": "markdown",
   "id": "88a7c6f9",
   "metadata": {},
   "source": [
    "# Calculating the Death Rate"
   ]
  },
  {
   "cell_type": "code",
   "execution_count": null,
   "id": "470d0d4e",
   "metadata": {},
   "outputs": [],
   "source": [
    "BC_FSA['Death_Rate']=BC_FSA['Deaths']/BC_FSA['Population']*1e6/21\n",
    "BC_FSA['Death_Rate']=BC_FSA['Death_Rate'].fillna(0)\n",
    "\n",
    "fig,ax=plt.subplots(1,2,figsize = (8,4))\n",
    "\n",
    "Deaths = BC_FSA.loc[BC_FSA['Mask']==0]\n",
    "\n",
    "ax[0].scatter(Deaths['Population'],Deaths['Deaths'],edgecolor='k')\n",
    "ax[0].set_ylabel('Deaths')\n",
    "ax[0].set_xlabel('Population')\n",
    "\n",
    "\n",
    "ax[1].scatter(Deaths['Pop_Density'],Deaths['Death_Rate'],edgecolor='k')\n",
    "ax[1].set_ylabel('Death Rate')\n",
    "ax[1].set_xlabel('Population')\n"
   ]
  },
  {
   "cell_type": "markdown",
   "id": "aa13a630",
   "metadata": {},
   "source": [
    "# Outliers"
   ]
  },
  {
   "cell_type": "code",
   "execution_count": null,
   "id": "9c68d22d",
   "metadata": {},
   "outputs": [],
   "source": [
    "\n",
    "\n",
    "fig,ax=plt.subplots(1,2,figsize=(8,4))\n",
    "BC_FSA['Deaths'].hist(ax=ax[0],bins=30,edgecolor='k')\n",
    "BC_FSA['Death_Rate'].hist(ax=ax[1],bins=30,edgecolor='k')\n",
    "\n",
    "print(BC_FSA.loc[BC_FSA['Death_Rate']==BC_FSA['Death_Rate'].max(),\n",
    "                ['name','Population','Pop_Density','Deaths','Death_Rate']])\n",
    "print(BC_FSA.loc[BC_FSA['Deaths']==BC_FSA['Deaths'].max(),\n",
    "                ['name','Population','Pop_Density','Deaths','Death_Rate']])\n"
   ]
  },
  {
   "cell_type": "code",
   "execution_count": null,
   "id": "4bc9519e",
   "metadata": {
    "scrolled": false
   },
   "outputs": [],
   "source": [
    "fig,ax=plt.subplots(figsize=(6,6))\n",
    "BC_FSA.loc[BC_FSA['Mask']==0].plot(column='Deaths',ax=ax,legend=True,scheme=\"User_Defined\", \n",
    "         classification_kwds=dict(bins=[3,6,\n",
    "             BC_FSA['Deaths'].max()]),\n",
    "                    edgecolor='k')\n",
    "BC_FSA.loc[BC_FSA['Mask']==1].plot(ax=ax,color='grey',edgecolor='k')\n",
    "\n",
    "PID_BC.plot(ax=ax,facecolor='None'\n",
    "            ,edgecolor='white')\n",
    "\n",
    "\n",
    "\n",
    "\n",
    "ax.grid()\n",
    "\n",
    "fig,ax=plt.subplots(figsize=(6,6))\n",
    "BC_FSA.loc[BC_FSA['Mask']==0].plot(column='Deaths',ax=ax,legend=True,scheme=\"User_Defined\", \n",
    "         classification_kwds=dict(bins=[3,6,\n",
    "             BC_FSA['Deaths'].max()]),\n",
    "                    edgecolor='k')\n",
    "BC_FSA.loc[BC_FSA['Mask']==1].plot(ax=ax,color='grey',edgecolor='k')\n",
    "\n",
    "PID_BC.plot(ax=ax,facecolor='None'\n",
    "            ,edgecolor='white')\n",
    "\n",
    "# ## Set Zoom and turn axes off\n",
    "x = 1.222e6\n",
    "y = 0.47e6\n",
    "\n",
    "Size = 4e4\n",
    "v = Size/2\n",
    "h = Size/2\n",
    "\n",
    "ax.set_xlim(x-h,x+h)\n",
    "ax.set_ylim(y-h,y+h)\n",
    "\n",
    "\n",
    "ax.get_xaxis().set_visible(False)\n",
    "ax.get_yaxis().set_visible(False)"
   ]
  },
  {
   "cell_type": "markdown",
   "id": "4563c83c",
   "metadata": {},
   "source": [
    "\n",
    "## Kernel Density\n",
    "\n",
    "* Kernel Density is a spatial interpolation method, we can use to map the probability of police involved deaths over space"
   ]
  },
  {
   "cell_type": "code",
   "execution_count": null,
   "id": "ba7e1b63",
   "metadata": {
    "scrolled": false
   },
   "outputs": [],
   "source": [
    "from sklearn.neighbors import KernelDensity\n",
    "import pandas as pd\n",
    "import geopandas as gpd\n",
    "import numpy as np\n",
    "from matplotlib import pyplot as plt\n",
    "from mpl_toolkits.axes_grid1 import make_axes_locatable\n",
    "import rasterio as rio\n",
    "from rasterio.plot import show\n",
    "\n",
    "def kde2D(x, y, bandwidth, cell_size=1e3, **kwargs): \n",
    "    \"\"\"Build 2D kernel density estimate (KDE).\"\"\"\n",
    "    # Transform ipnut points to x,y pairs\n",
    "    xy_train  = np.vstack([y, x]).T\n",
    "    # Fit the kernel density model\n",
    "    kde_skl = KernelDensity(bandwidth=bandwidth, **kwargs)\n",
    "    kde_skl.fit(xy_train)\n",
    "\n",
    "    \"\"\"Construct the Output Image\"\"\"\n",
    "    # Our \"Null\" hypothesis is a uniform 2D distribution - create a 2D grid\n",
    "    # Subtract/Add the cell size to the min/max the intervals are fully inclusive of the feature space\n",
    "    x_ax = np.arange(x.min()-cell_size,x.max()+cell_size,cell_size)\n",
    "    y_ax = np.arange(y.min()-cell_size,y.max()+cell_size,cell_size)\n",
    "    xx, yy = np.meshgrid(x_ax,y_ax)\n",
    "    \n",
    "    # Transform the grid points to x,y pairs\n",
    "    xy_test = (np.vstack([yy.ravel(), xx.ravel()]).T)\n",
    "    \n",
    "    # score_samples() returns the log-likelihood of the samples\n",
    "    # convert units to the cell size (z will ~ sum to 1 after conversion)\n",
    "    z = np.exp(kde_skl.score_samples(xy_test))*cell_size**2\n",
    "    return xx, yy, np.reshape(z, xx.shape)\n",
    "\n",
    "\n",
    "x = PID_BC.geometry.x.values\n",
    "y = PID_BC.geometry.y.values\n",
    "\n",
    "xx, yy, zz = kde2D(x, y,\n",
    "                   5000,# 5km band width\n",
    "                   cell_size=500, #1km cell size\n",
    "                   kernel='gaussian')\n",
    "\n",
    "print(zz.min(),zz.max(),zz.mean(),(zz).sum())\n",
    "\n",
    "fig,ax=plt.subplots(figsize=(10,10))\n",
    "\n",
    "cb = ax.pcolormesh(xx, yy, zz,shading='auto',cmap='Reds')\n",
    "\n",
    "BC_FSA.plot(ax=ax,facecolor='None',edgecolor='k')\n",
    "\n",
    "PID_BC.plot(ax=ax,facecolor='None'\n",
    "            ,edgecolor='blue')\n",
    "\n",
    "# ax.legend()\n",
    "divider = make_axes_locatable(ax)\n",
    "cax = divider.append_axes(\"right\", size=\"5%\", pad=0.05)\n",
    "\n",
    "plt.colorbar(cb, cax=cax)\n",
    "\n",
    "\n",
    "# ## Set Zoom\n",
    "x = 1.222e6\n",
    "y = 0.47e6\n",
    "\n",
    "Size = 4e4\n",
    "v = Size/2\n",
    "h = Size/2\n",
    "\n",
    "ax.set_xlim(x-h,x+h)\n",
    "ax.set_ylim(y-h,y+h)\n",
    "ax.grid()"
   ]
  },
  {
   "cell_type": "markdown",
   "id": "7a10d71a",
   "metadata": {},
   "source": [
    "# Save A Raster Image\n",
    "\n",
    "* We can use Rasterio write a raster layer"
   ]
  },
  {
   "cell_type": "code",
   "execution_count": null,
   "id": "f00a0e51",
   "metadata": {},
   "outputs": [],
   "source": [
    "\n",
    "import rasterio as rio\n",
    "trans = rio.transform.from_bounds(xx.min(), yy.min(), xx.max(), yy.max(), int(xx.shape[0]), int(yy.shape[1]))\n",
    "\n",
    "print(xx.min(), yy.min(), xx.max(), yy.max())\n",
    "print(trans)\n",
    "\n",
    "with rio.open('Kernel_Density.tif', 'w',\n",
    "                  dtype=rio.float32,\n",
    "                  count=1,\n",
    "                  compress='lzw',\n",
    "                  width=int(xx.shape[0]),\n",
    "                  height=int(yy.shape[1]),\n",
    "                  transform=trans) as dst:\n",
    "    dst.write(np.flip(zz,axis=0).astype(rio.float32), 1)\n",
    "print('Saved')"
   ]
  },
  {
   "cell_type": "markdown",
   "id": "769ffb72",
   "metadata": {},
   "source": [
    "# Plot the Raster"
   ]
  },
  {
   "cell_type": "code",
   "execution_count": null,
   "id": "e0c7dab6",
   "metadata": {},
   "outputs": [],
   "source": [
    "\n",
    "from rasterio.plot import show\n",
    "fig,ax=plt.subplots()\n",
    "with rio.open('Kernel_Density.tif','r') as Test:\n",
    "    show(Test,ax=ax,cmap='Reds')\n",
    "    \n",
    "BC_FSA.plot(ax=ax,facecolor='None',edgecolor='k')\n",
    "    \n",
    "    \n",
    "# ## Set Zoom & Turn Grid off\n",
    "x = 1.222e6\n",
    "y = 0.47e6\n",
    "\n",
    "Size = 4e4\n",
    "v = Size/2\n",
    "h = Size/2"
   ]
  },
  {
   "cell_type": "code",
   "execution_count": null,
   "id": "9c554e62",
   "metadata": {},
   "outputs": [],
   "source": []
  }
 ],
 "metadata": {
  "kernelspec": {
   "display_name": "geo-env",
   "language": "python",
   "name": "geo-env"
  },
  "language_info": {
   "codemirror_mode": {
    "name": "ipython",
    "version": 3
   },
   "file_extension": ".py",
   "mimetype": "text/x-python",
   "name": "python",
   "nbconvert_exporter": "python",
   "pygments_lexer": "ipython3",
   "version": "3.8.10"
  }
 },
 "nbformat": 4,
 "nbformat_minor": 5
}
