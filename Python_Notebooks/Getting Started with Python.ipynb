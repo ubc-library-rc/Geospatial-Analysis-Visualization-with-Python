{
 "cells": [
  {
   "cell_type": "markdown",
   "metadata": {},
   "source": [
    "# Getting Started with Python\n",
    "\n",
    "## Import Statements\n",
    "\n",
    "We're importing:\n",
    "* [numpy](https://numpy.org/)\n",
    "* [pandas](https://pandas.pydata.org/)\n",
    "* [matplotlib.pyplot](https://matplotlib.org/stable/api/index.html)"
   ]
  },
  {
   "cell_type": "code",
   "execution_count": null,
   "metadata": {
    "scrolled": false
   },
   "outputs": [],
   "source": [
    "import numpy as np\n",
    "import pandas as pd\n",
    "import scipy.stats as stats\n",
    "import matplotlib.pyplot as plt\n",
    "# This allows us to create interactive plots with matplotlib\n",
    "%matplotlib inline\n",
    "\n",
    "print('Imports Successful')"
   ]
  },
  {
   "cell_type": "markdown",
   "metadata": {},
   "source": [
    "## Importing Data\n",
    "\n",
    "The original CBC dataset from 2018 came as three separate text (.csv) files.  Often times, we need to merge or **Join** information from different places.  First we need to read the .csv files with Pandas using the [.read_csv()](https://pandas.pydata.org/pandas-docs/stable/reference/api/pandas.read_csv.html) function.\n",
    "* This will load the files as \"DataFrames\"\n",
    "    * We can set the header, automatically interpret dates, an set our table indexes\n",
    "\n",
    "\n",
    "### incident.csv\n",
    "\n",
    "Contains postal code of the incident, province, municipality, along with the date and incident ID\n"
   ]
  },
  {
   "cell_type": "code",
   "execution_count": null,
   "metadata": {},
   "outputs": [],
   "source": [
    "incident = pd.read_csv(\n",
    "    'data/incident.csv',\n",
    "    delimiter = ',',\n",
    "    header = 0,\n",
    "    parse_dates=['date'],\n",
    "    index_col=['id_incident']\n",
    ")\n",
    "print('incident.csv')\n",
    "print(incident)"
   ]
  },
  {
   "cell_type": "markdown",
   "metadata": {},
   "source": [
    "### victim.csv\n",
    "\n",
    "Contains information on the victms including age, race, etc."
   ]
  },
  {
   "cell_type": "code",
   "execution_count": null,
   "metadata": {
    "scrolled": false
   },
   "outputs": [],
   "source": [
    "\n",
    "victim = pd.read_csv(\n",
    "    'data/victim.csv',\n",
    "    delimiter = ',',\n",
    "    header = 0, \n",
    "    index_col=['id_incident']\n",
    ")\n",
    "print('victim.csv')\n",
    "victim.head()"
   ]
  },
  {
   "cell_type": "markdown",
   "metadata": {},
   "source": [
    "### police.csv\n",
    "\n",
    "Contaisn information about the police department and oficer involved\n",
    "\n",
    "This import gives an error?  Any ideas why?"
   ]
  },
  {
   "cell_type": "code",
   "execution_count": null,
   "metadata": {},
   "outputs": [],
   "source": [
    "\n",
    "police = pd.read_csv(\n",
    "    'data police.csv',\n",
    "    delimiter = ',',\n",
    "    header = 0, \n",
    "    index_col=['id_incident']\n",
    ")\n",
    "police"
   ]
  },
  {
   "cell_type": "markdown",
   "metadata": {},
   "source": [
    "## Joining Data\n",
    "\n",
    "The three files share the same index **id_incident**.  This unique identifier can be used combine the three Dataframes into one.\n",
    "* We can only join two dataframes at a time, but we can string together commands in one line.\n",
    "\n",
    "Then we can change the index to the date using [set_index](https://pandas.pydata.org/docs/reference/api/pandas.DataFrame.set_index.html).\n",
    "\n",
    "We can print the columns"
   ]
  },
  {
   "cell_type": "code",
   "execution_count": null,
   "metadata": {},
   "outputs": [],
   "source": [
    "# Join the incident and the victim records then join police to that.\n",
    "Join = incident.join(victim).join(police)\n",
    "\n",
    "PID_Canada = Join.set_index('date',drop = True)\n",
    "\n",
    "# .columns will give us all the column names (aka \"headers\")\n",
    "print(PID_Canada.columns)\n",
    "\n",
    "# .count() gives us the number of non \"null\" (missing) values for each column.\n",
    "PID_Canada.count()\n"
   ]
  },
  {
   "cell_type": "markdown",
   "metadata": {},
   "source": [
    "# Inspect at the data\n",
    "\n",
    "Pandas has lots of functions we can use to inspect different variables.  One is [.describe()](https://pandas.pydata.org/docs/reference/api/pandas.DataFrame.describe.html)\n",
    "* It will calculate statistics for numeric data\n",
    "* It is gives less information for text data\n",
    "    * If we can list all unique text values with .unique()\n",
    "\n"
   ]
  },
  {
   "cell_type": "code",
   "execution_count": null,
   "metadata": {},
   "outputs": [],
   "source": [
    "print('Descriptive Statistics: Age\\n')\n",
    "print(PID_Canada['age'].describe())\n",
    "print()\n",
    "print('Descriptive Statistics: Prov\\n')\n",
    "print(PID_Canada['prov'].describe())\n",
    "print()\n",
    "print('Unique Values: Prov\\n')\n",
    "print(PID_Canada['prov'].unique())"
   ]
  },
  {
   "cell_type": "markdown",
   "metadata": {},
   "source": [
    "## Working with Dates\n",
    "\n",
    "We can [resample](https://pandas.pydata.org/pandas-docs/stable/reference/api/pandas.DataFrame.resample.html) by a specific intervals (e.g. \"Y\": Yearly, \"M\", Monthly,' etc.).  Resample will aggregate the data over a given time interval, .count() specifies how to aggregate.\n",
    "* *Note* this only works when you have a date set as an index."
   ]
  },
  {
   "cell_type": "code",
   "execution_count": null,
   "metadata": {
    "scrolled": false
   },
   "outputs": [],
   "source": [
    "Yearly = PID_Canada.resample('Y').count()\n",
    "\n",
    "\n",
    "## The linregress() function calcualtes a linear regression between the year and the number of killings\n",
    "LR = stats.linregress(Yearly.index.year,Yearly['id_victim'])\n",
    "\n",
    "print('Linear Regression: Victims per Year')\n",
    "print()\n",
    "print(LR)\n",
    "\n",
    "print()\n",
    "\n",
    "Yearly"
   ]
  },
  {
   "cell_type": "markdown",
   "metadata": {},
   "source": [
    "# Plotting\n",
    "\n",
    "We can use [matplotlib.pyplot](https://matplotlib.org/stable/api/_as_gen/matplotlib.pyplot.html#module-matplotlib.pyplot) (plt) to make scatter bar charts and line graphs."
   ]
  },
  {
   "cell_type": "code",
   "execution_count": null,
   "metadata": {},
   "outputs": [],
   "source": [
    "# We can create a figure size 5x4\n",
    "plt.figure(figsize=(6,5))\n",
    "\n",
    "# .scatter() allows us to plot points\n",
    "plt.bar(Yearly.index.year.astype(int),\n",
    "            Yearly['id_victim'],\n",
    "           color='red',\n",
    "           edgecolor='k')\n",
    "\n",
    "# .plots() allows us to plot lines\n",
    "plt.plot(Yearly.index.year.astype(int),\n",
    "         Yearly.index.year*LR[0]+LR[1],\n",
    "         color='k',\n",
    "         label='Increasing Trend: '+str(int(LR[0]))+' victim / year')\n",
    "\n",
    "# We can set some specifics here.\n",
    "plt.xticks(Yearly.index.year.astype(int),Yearly.index.year.astype(int),rotation=75)\n",
    "plt.title('Police Killings by Year in Canada',loc='left')\n",
    "plt.ylabel('Number of Victims')\n",
    "plt.grid(axis='y')\n",
    "\n",
    "# Calling .legend() will display all entites we set a label for\n",
    "plt.legend()\n",
    "\n",
    "# .tight_layout() allows us to make sure things fit nicely\n",
    "plt.tight_layout()\n"
   ]
  },
  {
   "cell_type": "markdown",
   "metadata": {},
   "source": [
    "## Aggregating\n",
    "\n",
    "The [groupby](https://pandas.pydata.org/pandas-docs/stable/reference/api/pandas.DataFrame.groupby.html) function allows us conduct specific queries like:\n",
    "### Were the victims armed?"
   ]
  },
  {
   "cell_type": "code",
   "execution_count": null,
   "metadata": {},
   "outputs": [],
   "source": [
    "# .groupby() accepts one or more records to aggregate by\n",
    "# .count() tells us how to aggregate\n",
    "Armed = PID_Canada.groupby(['armed_type']).count()\n",
    "\n",
    "Armed['id_victim'].sort_values()"
   ]
  },
  {
   "cell_type": "markdown",
   "metadata": {},
   "source": [
    "## Editing data\n",
    "* We can create a [dictionary](https://www.w3schools.com/python/python_dictionaries.asp) define the replacements we want to make\n",
    "* We can use some of pandas special functions to query and manipulate our data\n",
    "    * The [.loc](https://pandas.pydata.org/pandas-docs/stable/reference/api/pandas.DataFrame.loc.html) function allows us to search for records\n",
    "    * The [.replace](https://pandas.pydata.org/docs/reference/api/pandas.DataFrame.replace.html) function lets us replace values"
   ]
  },
  {
   "cell_type": "code",
   "execution_count": null,
   "metadata": {},
   "outputs": [],
   "source": [
    "# Dictionaries use keys (eg. 'Vehicle') an values (eg. 'Other weapon')\n",
    "# They let us quickly look up values by a key\n",
    "replace_dict = {\n",
    "    'Air gun, replica gun':'Other weapons',\n",
    "    'Bat, club, other swinging object':'Other weapons',\n",
    "    'Vehicle':'Other weapons',\n",
    "    'Knife, axe, other cutting instruments':'Knife',\n",
    "    'Unknown':'None'\n",
    "          }\n",
    "\n",
    "# We can loop through te keys in the dictionary and use them to replace the disired values\n",
    "# .loc[] is a search command that allows us to perform specific querries\n",
    "# we can use it in combination with an equal sign (=) to replace values for a given column(s)\n",
    "for r in replace_dict.keys():\n",
    "    PID_Canada.loc[PID_Canada['armed_type']==r,'armed_type']=replace_dict[r]\n",
    "    \n",
    "Armed['id_victim'].sort_values()"
   ]
  },
  {
   "cell_type": "markdown",
   "metadata": {},
   "source": [
    "## Pie Charts"
   ]
  },
  {
   "cell_type": "code",
   "execution_count": null,
   "metadata": {},
   "outputs": [],
   "source": [
    "# Just making the same pic graph again\n",
    "plt.figure(figsize=(6,6))\n",
    "Armed = PID_Canada.groupby(['armed_type']).count()\n",
    "plt.pie(\n",
    "    Armed['id_victim'],\n",
    "    labels=Armed.index,\n",
    "    textprops={'fontsize': 12},\n",
    "    autopct='%1.1f%%',\n",
    "    wedgeprops={\"edgecolor\":\"k\",'linewidth': 2, 'linestyle': 'dashed'}\n",
    ")\n",
    "plt.title('Was the Victim Armed?', fontsize=14)\n",
    "plt.tight_layout()"
   ]
  },
  {
   "cell_type": "markdown",
   "metadata": {},
   "source": [
    "## More complex queries\n",
    "\n",
    "Which police departments in Canada are most likely to kill an unarmed person?  Groupby can also accept multiple inputs.  "
   ]
  },
  {
   "cell_type": "code",
   "execution_count": null,
   "metadata": {
    "scrolled": false
   },
   "outputs": [],
   "source": [
    "# Groupby allows us to search fo multiple records\n",
    "PoliceForce = PID_Canada.groupby(['Department','armed_type']).count().sort_values(by = 'id_victim',ascending=False)\n",
    "PoliceForce.head(10)"
   ]
  },
  {
   "cell_type": "markdown",
   "metadata": {},
   "source": [
    "## Formatting the result\n",
    "\n",
    "Most columns are duplicated, we only need to keep one ('id_victim')"
   ]
  },
  {
   "cell_type": "code",
   "execution_count": null,
   "metadata": {},
   "outputs": [],
   "source": [
    "Temp=PoliceForce['id_victim']\n",
    "print(Temp)\n",
    "print()\n",
    "PoliceForce_by_ArmedType = Temp.unstack().sort_values(by='None')#,ascending=False)\n",
    "print(PoliceForce_by_ArmedType)\n",
    "print()\n",
    "Top5_Unnarmed_Killings = PoliceForce_by_ArmedType.dropna()[-5:]\n",
    "print(Top5_Unnarmed_Killings['None'])\n",
    "print()\n",
    "\n",
    "\n",
    "fig,ax= plt.subplots(1,1,figsize=(8,6))\n",
    "\n",
    "ax.barh(Top5_Unnarmed_Killings.index,\n",
    "        Top5_Unnarmed_Killings['None'],\n",
    "        facecolor='#FF0000',\n",
    "        edgecolor='black'\n",
    "       )\n",
    "\n",
    "ax.set_title('Unarmed Victims by Police Department')\n",
    "plt.grid()\n",
    "plt.tight_layout()\n"
   ]
  },
  {
   "cell_type": "markdown",
   "metadata": {},
   "source": [
    "## The Demographic Distribution\n",
    "\n",
    "BIPOC are severely overrepresented."
   ]
  },
  {
   "cell_type": "code",
   "execution_count": null,
   "metadata": {},
   "outputs": [],
   "source": [
    "PID_Canada.groupby('race').count()['id_victim'].sort_values()"
   ]
  },
  {
   "cell_type": "markdown",
   "metadata": {},
   "source": [
    "## Normalizing\n",
    "\n",
    "Canada is predominately white, we have to scale each group by the size of their population to calculate a police killing rate\n",
    "* We want calculate the Police Killing Rate per Million Residents per Year for White, Black, and Indigenous people.\n",
    "* What should we use as the scale factor?\n",
    "    * Hint the dataset spans the years 2000 to 2017\n",
    "    "
   ]
  },
  {
   "cell_type": "code",
   "execution_count": null,
   "metadata": {
    "scrolled": false
   },
   "outputs": [],
   "source": [
    "Race=['Caucasian','Black','Indigenous']\n",
    "Population=[25803368,1198545,1673780]\n",
    "\n",
    "scale = 1e6/18\n",
    "\n",
    "Count = PID_Canada.groupby('race')['id_victim'].count()\n",
    "\n",
    "plt.figure(figsize=(8,6))\n",
    "\n",
    "i=0\n",
    "for race,population in (zip(Race,Population)):\n",
    "    if race == 'Total Population':\n",
    "        rate=((Count.sum()/population)*scale)\n",
    "    else:\n",
    "        rate=((Count[race]/population)*1e6/18)\n",
    "    plt.barh(i,rate,color='#FF0000',edgecolor='black')\n",
    "    i += 1\n",
    "plt.yticks([0,1,2],Race)\n",
    "plt.title('Police Killing Rates in Canada (2000-2017) CBC')\n",
    "plt.xlabel('Killing/Year/Million People')\n",
    "plt.tight_layout()\n",
    "    \n",
    "plt.grid()"
   ]
  },
  {
   "cell_type": "markdown",
   "metadata": {},
   "source": [
    "## Saving Data\n",
    "\n",
    "* We can save our data easily using the [.tocsv()](https://pandas.pydata.org/docs/reference/api/pandas.DataFrame.to_csv.html) function\n",
    "\n"
   ]
  },
  {
   "cell_type": "code",
   "execution_count": null,
   "metadata": {},
   "outputs": [],
   "source": [
    "PID_Canada.to_csv('data/PID_Canada.csv')\n",
    "print('Data Saved')\n",
    "print(PID_Canada)"
   ]
  },
  {
   "cell_type": "code",
   "execution_count": null,
   "metadata": {},
   "outputs": [],
   "source": []
  }
 ],
 "metadata": {
  "kernelspec": {
   "display_name": "Python 3",
   "language": "python",
   "name": "python3"
  },
  "language_info": {
   "codemirror_mode": {
    "name": "ipython",
    "version": 3
   },
   "file_extension": ".py",
   "mimetype": "text/x-python",
   "name": "python",
   "nbconvert_exporter": "python",
   "pygments_lexer": "ipython3",
   "version": "3.8.8"
  }
 },
 "nbformat": 4,
 "nbformat_minor": 4
}
