{
 "cells": [
  {
   "cell_type": "markdown",
   "id": "4f976bc4",
   "metadata": {},
   "source": [
    "# Geospatial Data in Python\n",
    "\n",
    "## Vector Data\n",
    "\n",
    "We are going to use [geopandas](https://geopandas.org/) to work with some vector data layers.  Geopandas is built on top of pandas, the main addition is its ability to handle **Geometries**.  For this, it relies on another package called [shapely](https://shapely.readthedocs.io/en/stable/manual.html)\n"
   ]
  },
  {
   "cell_type": "code",
   "execution_count": null,
   "id": "9fde242d",
   "metadata": {},
   "outputs": [],
   "source": [
    "import numpy as np\n",
    "import pandas as pd\n",
    "import matplotlib.pyplot as plt\n",
    "\n",
    "import geopandas as gpd\n",
    "\n",
    "\n",
    "%matplotlib inline\n",
    "\n",
    "Y = np.array([2,12,18,12,2])\n",
    "X = np.array([12,12,15,18,18])\n",
    "\n",
    "fig,ax=plt.subplots()\n",
    "ax.scatter(X,Y)\n",
    "ax.grid()\n",
    "ax.set_title('Verticies')"
   ]
  },
  {
   "cell_type": "markdown",
   "id": "560c0021",
   "metadata": {},
   "source": [
    "## Shapely Objects\n",
    "\n",
    "### Point(s)"
   ]
  },
  {
   "cell_type": "code",
   "execution_count": null,
   "id": "91d7a790",
   "metadata": {},
   "outputs": [],
   "source": [
    "from shapely.geometry import Point\n",
    "\n",
    "point = Point([X[0],Y[0]])\n",
    "\n",
    "point"
   ]
  },
  {
   "cell_type": "code",
   "execution_count": null,
   "id": "27d3a290",
   "metadata": {},
   "outputs": [],
   "source": [
    "from shapely.geometry import MultiPoint\n",
    "\n",
    "mulit_point = MultiPoint([x for x in zip(X, Y)])\n",
    "\n",
    "mulit_point"
   ]
  },
  {
   "cell_type": "markdown",
   "id": "d430b536",
   "metadata": {},
   "source": [
    "### Polygon(s)"
   ]
  },
  {
   "cell_type": "code",
   "execution_count": null,
   "id": "e23b2447",
   "metadata": {},
   "outputs": [],
   "source": [
    "from shapely.geometry import Polygon\n",
    "\n",
    "poly = Polygon([coord for coord in zip(X, Y)])\n",
    "\n",
    "poly"
   ]
  },
  {
   "cell_type": "code",
   "execution_count": null,
   "id": "2f8a66d5",
   "metadata": {},
   "outputs": [],
   "source": [
    "from shapely.geometry import MultiPolygon\n",
    "\n",
    "Mpol = []\n",
    "for i in range(0,61,20):\n",
    "    Mpol.append(Polygon([coord for coord in zip(X+i, Y+i)]))\n",
    "\n",
    "print(Mpol)\n",
    "Mpoly = MultiPolygon(Mpol)\n",
    "\n",
    "Mpoly"
   ]
  },
  {
   "cell_type": "markdown",
   "id": "5f5d5102",
   "metadata": {},
   "source": [
    "### Line(s)"
   ]
  },
  {
   "cell_type": "code",
   "execution_count": null,
   "id": "1b3259b7",
   "metadata": {},
   "outputs": [],
   "source": [
    "from shapely.geometry import LineString\n",
    "\n",
    "line = LineString([x for x in zip(X, Y)])\n",
    "\n",
    "line"
   ]
  },
  {
   "cell_type": "code",
   "execution_count": null,
   "id": "204bcdc8",
   "metadata": {},
   "outputs": [],
   "source": [
    "from shapely.geometry import MultiLineString\n",
    "\n",
    "Mlin = []\n",
    "for i in range(0,61,20):\n",
    "    Mlin.append(LineString([coord for coord in zip(X+i, Y+i)]))\n",
    "\n",
    "print(Mlin)\n",
    "Mline = MultiLineString(Mlin)\n",
    "\n",
    "Mline"
   ]
  },
  {
   "cell_type": "markdown",
   "id": "431fcecd",
   "metadata": {},
   "source": [
    "## Unzip Data\n",
    "\n",
    "- Below is a .zip file of census sub-divisions from Simply Analytics.\n",
    "- We need to unzip it and inspect the metadata"
   ]
  },
  {
   "cell_type": "code",
   "execution_count": null,
   "id": "6798a5cb",
   "metadata": {},
   "outputs": [],
   "source": [
    "import zipfile\n",
    "Shape_file='SimplyAnalytics_Shapefiles_2021-11-18_04_29_59_93f600838bff00a6da2283b90dbf31c8'\n",
    "with zipfile.ZipFile('data/'+Shape_file+'.zip', 'r') as zip_ref:\n",
    "    zip_ref.extractall('data/Census/')\n"
   ]
  },
  {
   "cell_type": "markdown",
   "id": "4af03a23",
   "metadata": {},
   "source": [
    "## Reading the shapefile\n",
    "\n",
    "We can rely on [geopandas](https://geopandas.org/en/stable/), a spatial extension for pandas.  We can use Geopandas to read, manipulate, and write geospatial data.\n",
    "\n",
    "* We can open .txt files with pandas to view the metadata"
   ]
  },
  {
   "cell_type": "code",
   "execution_count": null,
   "id": "813f87fe",
   "metadata": {},
   "outputs": [],
   "source": [
    "import geopandas as gpd\n",
    "\n",
    "# the .read_file() function reads shapefiles\n",
    "BC_FSA = gpd.read_file('data/Census/'+Shape_file+'.shp')\n",
    "\n",
    "meta_data = pd.read_csv('data/Census/variable_names.txt',header=None,sep='#')\n",
    "print('Vrriable Names: \\n',meta_data.values)\n",
    "\n",
    "BC_FSA"
   ]
  },
  {
   "cell_type": "markdown",
   "id": "05847a67",
   "metadata": {},
   "source": [
    "## Editing Data"
   ]
  },
  {
   "cell_type": "code",
   "execution_count": null,
   "id": "23f635f0",
   "metadata": {},
   "outputs": [],
   "source": [
    "\n",
    "## Note - This is the terminology used by the census\n",
    "## It can be found in the variable_name file that comes with the download\n",
    "BC_FSA = BC_FSA.rename(columns={\n",
    "'VALUE0': 'Population',\n",
    "})\n",
    "\n",
    "BC_FSA.head()"
   ]
  },
  {
   "cell_type": "markdown",
   "id": "5a590ba1",
   "metadata": {},
   "source": [
    "## Plotting the Data\n",
    "\n",
    "- Display the data and inspect the projection"
   ]
  },
  {
   "cell_type": "code",
   "execution_count": null,
   "id": "b6f8e82a",
   "metadata": {
    "scrolled": false
   },
   "outputs": [],
   "source": [
    "fig,ax=plt.subplots(figsize=(8,8))\n",
    "BC_FSA.plot(ax=ax)\n",
    "\n",
    "BC_FSA.crs"
   ]
  },
  {
   "cell_type": "markdown",
   "id": "d1a27c3f",
   "metadata": {},
   "source": [
    "## Re-project and Save the Data"
   ]
  },
  {
   "cell_type": "code",
   "execution_count": null,
   "id": "58729041",
   "metadata": {},
   "outputs": [],
   "source": [
    "BC_FSA_Albers = BC_FSA.to_crs('EPSG:3005')\n",
    "\n",
    "fig,ax=plt.subplots(figsize=(8,8))\n",
    "BC_FSA_Albers.plot(ax=ax)\n",
    "\n",
    "BC_FSA_Albers.crs"
   ]
  },
  {
   "cell_type": "markdown",
   "id": "5e4603ac",
   "metadata": {},
   "source": [
    "## Inspect the Geometry"
   ]
  },
  {
   "cell_type": "code",
   "execution_count": null,
   "id": "aae20ffa",
   "metadata": {},
   "outputs": [],
   "source": [
    "BC_FSA_Albers.area"
   ]
  },
  {
   "cell_type": "markdown",
   "id": "b9e8eb7d",
   "metadata": {},
   "source": [
    "## Map by a Column"
   ]
  },
  {
   "cell_type": "code",
   "execution_count": null,
   "id": "e7411717",
   "metadata": {},
   "outputs": [],
   "source": [
    "fig,ax=plt.subplots(figsize=(8,8))\n",
    "BC_FSA_Albers.plot(column='Population',ax=ax,legend=True,scheme=\"quantiles\",edgecolor='k')"
   ]
  },
  {
   "cell_type": "markdown",
   "id": "36489cc6",
   "metadata": {},
   "source": [
    "## Spatial Overlay"
   ]
  },
  {
   "cell_type": "code",
   "execution_count": null,
   "id": "ec5eff20",
   "metadata": {},
   "outputs": [],
   "source": [
    "BC_Boundary = gpd.read_file('data/Census/BC_Boudary_File.shp')\n",
    "\n",
    "fig,ax = plt.subplots(1,2,figsize=(8,5))\n",
    "BC_FSA_Albers.plot(edgecolor='k',ax=ax[0])\n",
    "BC_Boundary.plot(edgecolor='k',ax=ax[1])\n",
    "\n",
    "ax[0].set_title('Input Layer')\n",
    "ax[1].set_title('Clip Layer')\n"
   ]
  },
  {
   "cell_type": "markdown",
   "id": "cc592d49",
   "metadata": {},
   "source": [
    "## Clip\n",
    "\n",
    "This will take a little while to process"
   ]
  },
  {
   "cell_type": "code",
   "execution_count": null,
   "id": "1a54c30d",
   "metadata": {},
   "outputs": [],
   "source": [
    "\n",
    "\n",
    "BC_FSA_Clip = gpd.clip(BC_FSA_Albers,BC_Boundary)\n",
    "\n",
    "fig,ax = plt.subplots(figsize=(5,7))\n",
    "BC_FSA_Clip.plot(edgecolor='k',ax=ax)\n",
    "ax.set_title('Final Result')"
   ]
  },
  {
   "cell_type": "markdown",
   "id": "414c9402",
   "metadata": {},
   "source": [
    "## Calculate Population Density"
   ]
  },
  {
   "cell_type": "code",
   "execution_count": null,
   "id": "153ce598",
   "metadata": {},
   "outputs": [],
   "source": [
    "BC_FSA_Clip['Pop_Density'] = BC_FSA_Clip['Population']/BC_FSA_Clip.area*1e6\n",
    "BC_FSA_Clip['Pop_Density']=BC_FSA_Clip['Pop_Density'].fillna(0)\n",
    "\n",
    "fig,ax=plt.subplots(figsize=(10,10))\n",
    "BC_FSA_Clip.plot(column='Pop_Density',ax=ax,legend=True,scheme=\"User_Defined\", \n",
    "         classification_kwds=dict(bins=[\n",
    "             BC_FSA_Clip['Pop_Density'].quantile(.25),\n",
    "             BC_FSA_Clip['Pop_Density'].quantile(.5),\n",
    "             BC_FSA_Clip['Pop_Density'].quantile(.75),\n",
    "             BC_FSA_Clip['Pop_Density'].max()]),\n",
    "                    edgecolor='black',linewidth=.25)\n",
    "\n",
    "ax.grid()\n",
    "\n",
    "# ## Set Zoom & Turn Grid off\n",
    "x = 1.225e6\n",
    "y = 0.45e6\n",
    "v = 8.5e4 \n",
    "h = 8.5e4\n",
    "\n",
    "ax.set_xlim(x-h,x+h)\n",
    "ax.set_ylim(y-h,y+h)\n",
    "ax.grid()\n",
    "\n",
    "# BC_FSA_Clip.to_file('data//BC_FSAisions.shp')\n",
    "\n"
   ]
  },
  {
   "cell_type": "markdown",
   "id": "eb92293c",
   "metadata": {},
   "source": [
    "## Data Classification"
   ]
  },
  {
   "cell_type": "code",
   "execution_count": null,
   "id": "0e16fc8a",
   "metadata": {},
   "outputs": [],
   "source": [
    "BC_FSA_Clip.loc[((BC_FSA_Clip['Pop_Density']<=400)|(BC_FSA_Clip['Population']<=1000)),\n",
    "                    'Community_Type']='Rural'\n",
    "\n",
    "BC_FSA_Clip.loc[(BC_FSA_Clip['Community_Type']!='Rural'),\n",
    "                    'Community_Type']='Urban'\n",
    "\n",
    "print('Community Type Summary BC')\n",
    "print(BC_FSA_Clip.groupby('Community_Type').count()['name'].sort_values())\n",
    "\n",
    "\n",
    "fig,ax=plt.subplots(figsize=(8,8))\n",
    "BC_FSA_Clip.plot(column='Community_Type',ax=ax,legend=True,cmap='Pastel2',edgecolor='k',linewidth=.25)\n",
    "\n",
    "ax.set_xlim(x-h,x+h)\n",
    "ax.set_ylim(y-h,y+h)\n",
    "# ax.grid()\n",
    "\n",
    "ax.set_title('Community Type SW BC')\n"
   ]
  },
  {
   "cell_type": "markdown",
   "id": "ad35b5ca",
   "metadata": {},
   "source": [
    "\n",
    "# Saving Data\n",
    "\n",
    "## Shapefiles\n",
    "\n",
    "We can save new layer as a shapefile.  [Shapefiles](https://en.wikipedia.org/wiki/Shapefile) are only one type of vector file.  They have certain restrictions to minimize storage space (eg. limiting column names), they aren't human readable, are restricted to one geometry type (Polygon, line, or point), and they split the data into multiple files.\n",
    "\n",
    "Note the **\"UserWarnings\"**  This one isn't too serious, but it explains why the data came with a generic column header"
   ]
  },
  {
   "cell_type": "code",
   "execution_count": null,
   "id": "bb72a573",
   "metadata": {
    "scrolled": true
   },
   "outputs": [],
   "source": [
    "BC_FSA_Albers.loc[BC_FSA_Albers['geometry'].type !='GeometryCollection'].to_file('data/Outputs/BC_FSA_Albers.shp')\n",
    "BC_FSA_Clip.loc[BC_FSA_Clip['geometry'].type !='GeometryCollection'].to_file('data/Outputs/BC_FSA_Clip.shp')\n",
    "\n"
   ]
  },
  {
   "cell_type": "markdown",
   "id": "c19c119c",
   "metadata": {},
   "source": [
    "## Geojson\n",
    "\n",
    "We can save the new layer as a [geojson](https://en.wikipedia.org/wiki/GeoJSON) file to get around the issue.\n",
    "* This is a simple file type often used in web-centered applications that stores data as a **human readable** dictionary.\n",
    "* The file takes up more space, but is also a bit more accessible/flexible.\n"
   ]
  },
  {
   "cell_type": "code",
   "execution_count": null,
   "id": "8caca0e9",
   "metadata": {},
   "outputs": [],
   "source": [
    "print(BC_FSA_Clip.groupby(BC_FSA_Clip['geometry'].type).count()['Population'])\n",
    "BC_FSA_Clip.to_file(\"data/Outputs/BC_FSA_Clip.json\", driver = \"GeoJSON\")"
   ]
  }
 ],
 "metadata": {
  "kernelspec": {
   "display_name": "geo-env",
   "language": "python",
   "name": "geo-env"
  },
  "language_info": {
   "codemirror_mode": {
    "name": "ipython",
    "version": 3
   },
   "file_extension": ".py",
   "mimetype": "text/x-python",
   "name": "python",
   "nbconvert_exporter": "python",
   "pygments_lexer": "ipython3",
   "version": "3.8.10"
  }
 },
 "nbformat": 4,
 "nbformat_minor": 5
}
